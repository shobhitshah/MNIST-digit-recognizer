{
  "nbformat": 4,
  "nbformat_minor": 0,
  "metadata": {
    "colab": {
      "name": "mnist-digit-recognizer.ipynb",
      "version": "0.3.2",
      "provenance": []
    },
    "kernelspec": {
      "display_name": "Python 3",
      "language": "python",
      "name": "python3"
    }
  },
  "cells": [
    {
      "metadata": {
        "id": "-eV_p1ZY32gN",
        "colab_type": "text"
      },
      "cell_type": "markdown",
      "source": [
        "# Initialization\n"
      ]
    },
    {
      "metadata": {
        "id": "a5AQsn9532gR",
        "colab_type": "code",
        "colab": {}
      },
      "cell_type": "code",
      "source": [
        "import pandas as pd\n",
        "import numpy as np\n",
        "from matplotlib import pyplot as plt\n",
        "from sklearn import ensemble\n",
        "from sklearn.metrics import mean_absolute_error\n",
        "from sklearn.model_selection import cross_val_score, cross_val_predict, train_test_split\n",
        "from sklearn.metrics import mean_squared_error, r2_score\n",
        "from xgboost import XGBClassifier\n",
        "from sklearn.neural_network import MLPClassifier\n",
        "from sklearn.neighbors import KNeighborsClassifier\n",
        "from sklearn.svm import SVC\n",
        "from sklearn.gaussian_process import GaussianProcessClassifier\n",
        "from sklearn.gaussian_process.kernels import RBF\n",
        "from sklearn.tree import DecisionTreeClassifier\n",
        "from sklearn.ensemble import RandomForestClassifier, AdaBoostClassifier\n",
        "from sklearn.naive_bayes import GaussianNB\n",
        "from sklearn.linear_model import LogisticRegression\n"
      ],
      "execution_count": 0,
      "outputs": []
    },
    {
      "metadata": {
        "id": "U2pGg5kE32gf",
        "colab_type": "text"
      },
      "cell_type": "markdown",
      "source": [
        "Reading part (1/n) of the data"
      ]
    },
    {
      "metadata": {
        "id": "lY8Sr_tM32gj",
        "colab_type": "code",
        "colab": {}
      },
      "cell_type": "code",
      "source": [
        "def skiprow(i, n):\n",
        "    if i % n == 0:\n",
        "       return False\n",
        "    return True\n"
      ],
      "execution_count": 0,
      "outputs": []
    },
    {
      "metadata": {
        "id": "oNIfF6jT32gr",
        "colab_type": "text"
      },
      "cell_type": "markdown",
      "source": [
        "Change n to load more, or less of the data."
      ]
    },
    {
      "metadata": {
        "id": "QwNrHiEy32gu",
        "colab_type": "code",
        "colab": {
          "base_uri": "https://localhost:8080/",
          "height": 34
        },
        "outputId": "be2644db-7d9f-4b99-8db6-8aa06c55e838"
      },
      "cell_type": "code",
      "source": [
        "n=10\n",
        "train_url='https://github.com/shobhitshah/MNIST-digit-recognizer/blob/develop/data/mnist-in-csv/mnist_train.csv.zip?raw=true'\n",
        "test_url='https://github.com/shobhitshah/MNIST-digit-recognizer/blob/develop/data/mnist-in-csv/mnist_test.csv.zip?raw=true'\n",
        "train = pd.read_csv(train_url, compression='zip', skiprows = lambda x: skiprow(x, n))\n",
        "test = pd.read_csv(test_url, compression='zip' , skiprows = lambda x: skiprow(x, 1))\n",
        "\n",
        "train.shape"
      ],
      "execution_count": 11,
      "outputs": [
        {
          "output_type": "execute_result",
          "data": {
            "text/plain": [
              "(6000, 785)"
            ]
          },
          "metadata": {
            "tags": []
          },
          "execution_count": 11
        }
      ]
    },
    {
      "metadata": {
        "id": "1NpkMPQC32g5",
        "colab_type": "code",
        "colab": {
          "base_uri": "https://localhost:8080/",
          "height": 233
        },
        "outputId": "5b5392be-61d6-4a72-c35f-6897fcec83c2"
      },
      "cell_type": "code",
      "source": [
        "train.sample(5)"
      ],
      "execution_count": 12,
      "outputs": [
        {
          "output_type": "execute_result",
          "data": {
            "text/html": [
              "<div>\n",
              "<style scoped>\n",
              "    .dataframe tbody tr th:only-of-type {\n",
              "        vertical-align: middle;\n",
              "    }\n",
              "\n",
              "    .dataframe tbody tr th {\n",
              "        vertical-align: top;\n",
              "    }\n",
              "\n",
              "    .dataframe thead th {\n",
              "        text-align: right;\n",
              "    }\n",
              "</style>\n",
              "<table border=\"1\" class=\"dataframe\">\n",
              "  <thead>\n",
              "    <tr style=\"text-align: right;\">\n",
              "      <th></th>\n",
              "      <th>label</th>\n",
              "      <th>1x1</th>\n",
              "      <th>1x2</th>\n",
              "      <th>1x3</th>\n",
              "      <th>1x4</th>\n",
              "      <th>1x5</th>\n",
              "      <th>1x6</th>\n",
              "      <th>1x7</th>\n",
              "      <th>1x8</th>\n",
              "      <th>1x9</th>\n",
              "      <th>...</th>\n",
              "      <th>28x19</th>\n",
              "      <th>28x20</th>\n",
              "      <th>28x21</th>\n",
              "      <th>28x22</th>\n",
              "      <th>28x23</th>\n",
              "      <th>28x24</th>\n",
              "      <th>28x25</th>\n",
              "      <th>28x26</th>\n",
              "      <th>28x27</th>\n",
              "      <th>28x28</th>\n",
              "    </tr>\n",
              "  </thead>\n",
              "  <tbody>\n",
              "    <tr>\n",
              "      <th>4649</th>\n",
              "      <td>1</td>\n",
              "      <td>0</td>\n",
              "      <td>0</td>\n",
              "      <td>0</td>\n",
              "      <td>0</td>\n",
              "      <td>0</td>\n",
              "      <td>0</td>\n",
              "      <td>0</td>\n",
              "      <td>0</td>\n",
              "      <td>0</td>\n",
              "      <td>...</td>\n",
              "      <td>0</td>\n",
              "      <td>0</td>\n",
              "      <td>0</td>\n",
              "      <td>0</td>\n",
              "      <td>0</td>\n",
              "      <td>0</td>\n",
              "      <td>0</td>\n",
              "      <td>0</td>\n",
              "      <td>0</td>\n",
              "      <td>0</td>\n",
              "    </tr>\n",
              "    <tr>\n",
              "      <th>2017</th>\n",
              "      <td>2</td>\n",
              "      <td>0</td>\n",
              "      <td>0</td>\n",
              "      <td>0</td>\n",
              "      <td>0</td>\n",
              "      <td>0</td>\n",
              "      <td>0</td>\n",
              "      <td>0</td>\n",
              "      <td>0</td>\n",
              "      <td>0</td>\n",
              "      <td>...</td>\n",
              "      <td>0</td>\n",
              "      <td>0</td>\n",
              "      <td>0</td>\n",
              "      <td>0</td>\n",
              "      <td>0</td>\n",
              "      <td>0</td>\n",
              "      <td>0</td>\n",
              "      <td>0</td>\n",
              "      <td>0</td>\n",
              "      <td>0</td>\n",
              "    </tr>\n",
              "    <tr>\n",
              "      <th>5827</th>\n",
              "      <td>4</td>\n",
              "      <td>0</td>\n",
              "      <td>0</td>\n",
              "      <td>0</td>\n",
              "      <td>0</td>\n",
              "      <td>0</td>\n",
              "      <td>0</td>\n",
              "      <td>0</td>\n",
              "      <td>0</td>\n",
              "      <td>0</td>\n",
              "      <td>...</td>\n",
              "      <td>0</td>\n",
              "      <td>0</td>\n",
              "      <td>0</td>\n",
              "      <td>0</td>\n",
              "      <td>0</td>\n",
              "      <td>0</td>\n",
              "      <td>0</td>\n",
              "      <td>0</td>\n",
              "      <td>0</td>\n",
              "      <td>0</td>\n",
              "    </tr>\n",
              "    <tr>\n",
              "      <th>4452</th>\n",
              "      <td>1</td>\n",
              "      <td>0</td>\n",
              "      <td>0</td>\n",
              "      <td>0</td>\n",
              "      <td>0</td>\n",
              "      <td>0</td>\n",
              "      <td>0</td>\n",
              "      <td>0</td>\n",
              "      <td>0</td>\n",
              "      <td>0</td>\n",
              "      <td>...</td>\n",
              "      <td>0</td>\n",
              "      <td>0</td>\n",
              "      <td>0</td>\n",
              "      <td>0</td>\n",
              "      <td>0</td>\n",
              "      <td>0</td>\n",
              "      <td>0</td>\n",
              "      <td>0</td>\n",
              "      <td>0</td>\n",
              "      <td>0</td>\n",
              "    </tr>\n",
              "    <tr>\n",
              "      <th>3031</th>\n",
              "      <td>9</td>\n",
              "      <td>0</td>\n",
              "      <td>0</td>\n",
              "      <td>0</td>\n",
              "      <td>0</td>\n",
              "      <td>0</td>\n",
              "      <td>0</td>\n",
              "      <td>0</td>\n",
              "      <td>0</td>\n",
              "      <td>0</td>\n",
              "      <td>...</td>\n",
              "      <td>0</td>\n",
              "      <td>0</td>\n",
              "      <td>0</td>\n",
              "      <td>0</td>\n",
              "      <td>0</td>\n",
              "      <td>0</td>\n",
              "      <td>0</td>\n",
              "      <td>0</td>\n",
              "      <td>0</td>\n",
              "      <td>0</td>\n",
              "    </tr>\n",
              "  </tbody>\n",
              "</table>\n",
              "<p>5 rows × 785 columns</p>\n",
              "</div>"
            ],
            "text/plain": [
              "      label  1x1  1x2  1x3  1x4  1x5  1x6  1x7  1x8  1x9  ...    28x19  28x20  \\\n",
              "4649      1    0    0    0    0    0    0    0    0    0  ...        0      0   \n",
              "2017      2    0    0    0    0    0    0    0    0    0  ...        0      0   \n",
              "5827      4    0    0    0    0    0    0    0    0    0  ...        0      0   \n",
              "4452      1    0    0    0    0    0    0    0    0    0  ...        0      0   \n",
              "3031      9    0    0    0    0    0    0    0    0    0  ...        0      0   \n",
              "\n",
              "      28x21  28x22  28x23  28x24  28x25  28x26  28x27  28x28  \n",
              "4649      0      0      0      0      0      0      0      0  \n",
              "2017      0      0      0      0      0      0      0      0  \n",
              "5827      0      0      0      0      0      0      0      0  \n",
              "4452      0      0      0      0      0      0      0      0  \n",
              "3031      0      0      0      0      0      0      0      0  \n",
              "\n",
              "[5 rows x 785 columns]"
            ]
          },
          "metadata": {
            "tags": []
          },
          "execution_count": 12
        }
      ]
    },
    {
      "metadata": {
        "id": "VoISWKSm32hA",
        "colab_type": "code",
        "colab": {
          "base_uri": "https://localhost:8080/",
          "height": 233
        },
        "outputId": "87009ed7-0857-499e-85dc-375d294964c8"
      },
      "cell_type": "code",
      "source": [
        "df=train.drop('label', axis = 1)\n",
        "df.sample(5)"
      ],
      "execution_count": 13,
      "outputs": [
        {
          "output_type": "execute_result",
          "data": {
            "text/html": [
              "<div>\n",
              "<style scoped>\n",
              "    .dataframe tbody tr th:only-of-type {\n",
              "        vertical-align: middle;\n",
              "    }\n",
              "\n",
              "    .dataframe tbody tr th {\n",
              "        vertical-align: top;\n",
              "    }\n",
              "\n",
              "    .dataframe thead th {\n",
              "        text-align: right;\n",
              "    }\n",
              "</style>\n",
              "<table border=\"1\" class=\"dataframe\">\n",
              "  <thead>\n",
              "    <tr style=\"text-align: right;\">\n",
              "      <th></th>\n",
              "      <th>1x1</th>\n",
              "      <th>1x2</th>\n",
              "      <th>1x3</th>\n",
              "      <th>1x4</th>\n",
              "      <th>1x5</th>\n",
              "      <th>1x6</th>\n",
              "      <th>1x7</th>\n",
              "      <th>1x8</th>\n",
              "      <th>1x9</th>\n",
              "      <th>1x10</th>\n",
              "      <th>...</th>\n",
              "      <th>28x19</th>\n",
              "      <th>28x20</th>\n",
              "      <th>28x21</th>\n",
              "      <th>28x22</th>\n",
              "      <th>28x23</th>\n",
              "      <th>28x24</th>\n",
              "      <th>28x25</th>\n",
              "      <th>28x26</th>\n",
              "      <th>28x27</th>\n",
              "      <th>28x28</th>\n",
              "    </tr>\n",
              "  </thead>\n",
              "  <tbody>\n",
              "    <tr>\n",
              "      <th>2680</th>\n",
              "      <td>0</td>\n",
              "      <td>0</td>\n",
              "      <td>0</td>\n",
              "      <td>0</td>\n",
              "      <td>0</td>\n",
              "      <td>0</td>\n",
              "      <td>0</td>\n",
              "      <td>0</td>\n",
              "      <td>0</td>\n",
              "      <td>0</td>\n",
              "      <td>...</td>\n",
              "      <td>0</td>\n",
              "      <td>0</td>\n",
              "      <td>0</td>\n",
              "      <td>0</td>\n",
              "      <td>0</td>\n",
              "      <td>0</td>\n",
              "      <td>0</td>\n",
              "      <td>0</td>\n",
              "      <td>0</td>\n",
              "      <td>0</td>\n",
              "    </tr>\n",
              "    <tr>\n",
              "      <th>3146</th>\n",
              "      <td>0</td>\n",
              "      <td>0</td>\n",
              "      <td>0</td>\n",
              "      <td>0</td>\n",
              "      <td>0</td>\n",
              "      <td>0</td>\n",
              "      <td>0</td>\n",
              "      <td>0</td>\n",
              "      <td>0</td>\n",
              "      <td>0</td>\n",
              "      <td>...</td>\n",
              "      <td>0</td>\n",
              "      <td>0</td>\n",
              "      <td>0</td>\n",
              "      <td>0</td>\n",
              "      <td>0</td>\n",
              "      <td>0</td>\n",
              "      <td>0</td>\n",
              "      <td>0</td>\n",
              "      <td>0</td>\n",
              "      <td>0</td>\n",
              "    </tr>\n",
              "    <tr>\n",
              "      <th>947</th>\n",
              "      <td>0</td>\n",
              "      <td>0</td>\n",
              "      <td>0</td>\n",
              "      <td>0</td>\n",
              "      <td>0</td>\n",
              "      <td>0</td>\n",
              "      <td>0</td>\n",
              "      <td>0</td>\n",
              "      <td>0</td>\n",
              "      <td>0</td>\n",
              "      <td>...</td>\n",
              "      <td>0</td>\n",
              "      <td>0</td>\n",
              "      <td>0</td>\n",
              "      <td>0</td>\n",
              "      <td>0</td>\n",
              "      <td>0</td>\n",
              "      <td>0</td>\n",
              "      <td>0</td>\n",
              "      <td>0</td>\n",
              "      <td>0</td>\n",
              "    </tr>\n",
              "    <tr>\n",
              "      <th>1791</th>\n",
              "      <td>0</td>\n",
              "      <td>0</td>\n",
              "      <td>0</td>\n",
              "      <td>0</td>\n",
              "      <td>0</td>\n",
              "      <td>0</td>\n",
              "      <td>0</td>\n",
              "      <td>0</td>\n",
              "      <td>0</td>\n",
              "      <td>0</td>\n",
              "      <td>...</td>\n",
              "      <td>0</td>\n",
              "      <td>0</td>\n",
              "      <td>0</td>\n",
              "      <td>0</td>\n",
              "      <td>0</td>\n",
              "      <td>0</td>\n",
              "      <td>0</td>\n",
              "      <td>0</td>\n",
              "      <td>0</td>\n",
              "      <td>0</td>\n",
              "    </tr>\n",
              "    <tr>\n",
              "      <th>2990</th>\n",
              "      <td>0</td>\n",
              "      <td>0</td>\n",
              "      <td>0</td>\n",
              "      <td>0</td>\n",
              "      <td>0</td>\n",
              "      <td>0</td>\n",
              "      <td>0</td>\n",
              "      <td>0</td>\n",
              "      <td>0</td>\n",
              "      <td>0</td>\n",
              "      <td>...</td>\n",
              "      <td>0</td>\n",
              "      <td>0</td>\n",
              "      <td>0</td>\n",
              "      <td>0</td>\n",
              "      <td>0</td>\n",
              "      <td>0</td>\n",
              "      <td>0</td>\n",
              "      <td>0</td>\n",
              "      <td>0</td>\n",
              "      <td>0</td>\n",
              "    </tr>\n",
              "  </tbody>\n",
              "</table>\n",
              "<p>5 rows × 784 columns</p>\n",
              "</div>"
            ],
            "text/plain": [
              "      1x1  1x2  1x3  1x4  1x5  1x6  1x7  1x8  1x9  1x10  ...    28x19  28x20  \\\n",
              "2680    0    0    0    0    0    0    0    0    0     0  ...        0      0   \n",
              "3146    0    0    0    0    0    0    0    0    0     0  ...        0      0   \n",
              "947     0    0    0    0    0    0    0    0    0     0  ...        0      0   \n",
              "1791    0    0    0    0    0    0    0    0    0     0  ...        0      0   \n",
              "2990    0    0    0    0    0    0    0    0    0     0  ...        0      0   \n",
              "\n",
              "      28x21  28x22  28x23  28x24  28x25  28x26  28x27  28x28  \n",
              "2680      0      0      0      0      0      0      0      0  \n",
              "3146      0      0      0      0      0      0      0      0  \n",
              "947       0      0      0      0      0      0      0      0  \n",
              "1791      0      0      0      0      0      0      0      0  \n",
              "2990      0      0      0      0      0      0      0      0  \n",
              "\n",
              "[5 rows x 784 columns]"
            ]
          },
          "metadata": {
            "tags": []
          },
          "execution_count": 13
        }
      ]
    },
    {
      "metadata": {
        "id": "ytgQnyF132hF",
        "colab_type": "text"
      },
      "cell_type": "markdown",
      "source": [
        "# Feature selection"
      ]
    },
    {
      "metadata": {
        "id": "r0-ab7Ev32hG",
        "colab_type": "code",
        "colab": {}
      },
      "cell_type": "code",
      "source": [
        "y=train.label\n",
        "X=train.drop('label', axis=1)\n",
        "X_test = test.drop('label', axis=1)\n"
      ],
      "execution_count": 0,
      "outputs": []
    },
    {
      "metadata": {
        "id": "G_rz-kbE32hJ",
        "colab_type": "text"
      },
      "cell_type": "markdown",
      "source": [
        "# Define models"
      ]
    },
    {
      "metadata": {
        "id": "tLs1dh8B32hK",
        "colab_type": "text"
      },
      "cell_type": "markdown",
      "source": [
        "Multi label models."
      ]
    },
    {
      "metadata": {
        "id": "VbUxMwoi32hL",
        "colab_type": "code",
        "colab": {}
      },
      "cell_type": "code",
      "source": [
        "models = []\n",
        "#models.append(('KNN', KNeighborsClassifier(3)))\n",
        "#models.append(('Linear SVM', SVC(gamma='scale', C=0.025, decision_function_shape='ovo')))\n",
        "#models.append(('Neural Net', MLPClassifier(alpha=1, solver='sgd')))\n",
        "#models.append(('XGB', XGBClassifier(verbosity=2, objective='multi:softmax', num_class=10)))\n",
        "models.append(('LR', LogisticRegression(solver=\"saga\", multi_class=\"multinomial\", max_iter=1000))) # ovr - one versus reset\n",
        "#models.append(('RF', RandomForestClassifier(max_depth=5, n_estimators=10, max_features=1)))\n"
      ],
      "execution_count": 0,
      "outputs": []
    },
    {
      "metadata": {
        "id": "JS1f3lbI32hN",
        "colab_type": "text"
      },
      "cell_type": "markdown",
      "source": [
        "# Model fitting and prediction"
      ]
    },
    {
      "metadata": {
        "id": "fjWX1HiC32hO",
        "colab_type": "code",
        "colab": {}
      },
      "cell_type": "code",
      "source": [
        "def model_score(name, model, X, y, val_y, y_pred, y_test, icv):\n",
        "    #print('Running CV score')\n",
        "    cvscore = cross_val_score(model, X, y, cv=icv)\n",
        "    print('Model {0} score: {1:.4f} and std dev: {2:.4f}'.format(name, cvscore.mean(), cvscore.std()))\n",
        "    print('Validation variance score: %.4f' % r2_score(val_y, y_pred))\n",
        "    print('Test variance score: %.4f' % r2_score(test.label, y_test))\n",
        "\n",
        "    return cvscore, r2_score(val_y, y_pred), r2_score(test.label, y_test)"
      ],
      "execution_count": 0,
      "outputs": []
    },
    {
      "metadata": {
        "id": "IR2TfvGx32hR",
        "colab_type": "code",
        "colab": {}
      },
      "cell_type": "code",
      "source": [
        "def cv_fit_and_predict(models, X, y):\n",
        "    results = []\n",
        "    train_X, val_X, train_y, val_y = train_test_split(X, y, random_state = 0)\n",
        "    for name, model in models:\n",
        "        #print(\"Fitting model {}\".format(name))\n",
        "        m = model.fit(train_X, train_y)\n",
        "        #print(\"Fitted model is {}\".format(m))\n",
        "        #print('Running prediction')\n",
        "        y_pred = model.predict(val_X)\n",
        "        y_test = model.predict(X_test)\n",
        "        score, val_r2, test_r2 = model_score(name, model, X, y, val_y, y_pred, y_test, 10)\n",
        "        results.append((name, score, val_r2, test_r2))\n",
        "    print(\"Done\")\n",
        "    return results\n"
      ],
      "execution_count": 0,
      "outputs": []
    },
    {
      "metadata": {
        "id": "eNf7gcSb32hT",
        "colab_type": "code",
        "colab": {}
      },
      "cell_type": "code",
      "source": [
        "results = cv_fit_and_predict(models, X, y)"
      ],
      "execution_count": 0,
      "outputs": []
    },
    {
      "metadata": {
        "id": "4AVTyI6U32hZ",
        "colab_type": "text"
      },
      "cell_type": "markdown",
      "source": [
        "# Validation and results"
      ]
    },
    {
      "metadata": {
        "id": "jAo-dhkX32ha",
        "colab_type": "code",
        "colab": {}
      },
      "cell_type": "code",
      "source": [
        "def model_validation(results):\n",
        "    fig, ax = plt.subplots(figsize=(8, 5))\n",
        "    ax.boxplot(results[:,1])\n",
        "    ax.set_xticklabels(results[:,0])\n",
        "    ax.set_title('Model CV score')\n",
        "    plt.show()\n",
        "    \n",
        "    plt.figure(figsize=(8, 5))\n",
        "    plt.bar(results[:,0], results[:,2])\n",
        "    plt.xlabel('Models')\n",
        "    plt.ylabel('Var score')\n",
        "    plt.title('Models variance score')\n",
        "    plt.show()\n",
        "    \n",
        "    plt.figure(figsize=(8, 5))\n",
        "    plt.bar(results[:,0], results[:,3])\n",
        "    plt.xlabel('Models')\n",
        "    plt.ylabel('Var score')\n",
        "    plt.title('Test variance score')\n",
        "    plt.show()\n",
        "    \n",
        "    return 0"
      ],
      "execution_count": 0,
      "outputs": []
    },
    {
      "metadata": {
        "id": "89ESNrfW32hc",
        "colab_type": "code",
        "colab": {}
      },
      "cell_type": "code",
      "source": [
        "np_results=np.array(results)"
      ],
      "execution_count": 0,
      "outputs": []
    },
    {
      "metadata": {
        "id": "eIVOqo1K32he",
        "colab_type": "code",
        "colab": {}
      },
      "cell_type": "code",
      "source": [
        "status = model_validation(np_results)"
      ],
      "execution_count": 0,
      "outputs": []
    },
    {
      "metadata": {
        "id": "nwf7h-U132hh",
        "colab_type": "raw"
      },
      "cell_type": "markdown",
      "source": [
        "fi = imodel.fit(X, y).feature_importances_\n",
        "pos = np.arange(len(X.columns))\n",
        "print(\"Best performing model\", imodel)\n",
        "plt.figure(figsize=(13, 8))\n",
        "plt.barh(pos, fi)\n",
        "plt.title(\"Feature Importance\")\n",
        "plt.xlabel(\"Model Accuracy\")\n",
        "plt.ylabel(\"Features\")\n",
        "plt.yticks(pos, (list(X)))\n",
        "plt.show()"
      ]
    },
    {
      "metadata": {
        "id": "iLM5RLn932hi",
        "colab_type": "raw"
      },
      "cell_type": "markdown",
      "source": [
        "preds = imodel.predict(X_test)\n",
        "print('Variance score: %.4f' % r2_score(test.label, preds))\n",
        "\n",
        "pd.DataFrame({\"ImageId\": list(range(1,len(preds)+1)), \"Label\": preds, \"test_label\":test.label})\n"
      ]
    },
    {
      "metadata": {
        "id": "8_BWyVaJ32hi",
        "colab_type": "code",
        "colab": {}
      },
      "cell_type": "code",
      "source": [
        ""
      ],
      "execution_count": 0,
      "outputs": []
    }
  ]
}